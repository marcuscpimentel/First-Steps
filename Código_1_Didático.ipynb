{
  "nbformat": 4,
  "nbformat_minor": 0,
  "metadata": {
    "colab": {
      "name": "Código 1 - Didático.ipynb",
      "provenance": [],
      "authorship_tag": "ABX9TyNcArWT6GpKD7uQyH2Zd2J+",
      "include_colab_link": true
    },
    "kernelspec": {
      "name": "python3",
      "display_name": "Python 3"
    },
    "language_info": {
      "name": "python"
    }
  },
  "cells": [
    {
      "cell_type": "markdown",
      "metadata": {
        "id": "view-in-github",
        "colab_type": "text"
      },
      "source": [
        "<a href=\"https://colab.research.google.com/github/marcuscpimentel/First-Steps/blob/main/C%C3%B3digo_1_Did%C3%A1tico.ipynb\" target=\"_parent\"><img src=\"https://colab.research.google.com/assets/colab-badge.svg\" alt=\"Open In Colab\"/></a>"
      ]
    },
    {
      "cell_type": "code",
      "execution_count": 4,
      "metadata": {
        "colab": {
          "base_uri": "https://localhost:8080/",
          "height": 415
        },
        "id": "TUjX7Rwo7GBA",
        "outputId": "2a957894-2da6-4395-a721-ac691ca26533"
      },
      "outputs": [
        {
          "output_type": "stream",
          "name": "stdout",
          "text": [
            "Foram contabilizados  48  meses.\n",
            "Foram contabilizados  4  anos.\n",
            "O maior faturamento foi de  1851548.975 , no mes de  Fev2018\n",
            "O menor faturamento foi de  247320.3747 , no mes de  Nov2018\n",
            "O ano com maior faturamento foi  2019 , sendo o valor igual a  12634301.1594\n",
            "O ano com menor faturamento foi  2020 , sendo o valor igual a  12152690.9726\n",
            "O faturamento total é igual a:  49440028.428899996\n",
            "A média de faturamento por ano é igual a:  12360007.107224999\n"
          ]
        },
        {
          "output_type": "display_data",
          "data": {
            "image/png": "[encoded data removed]",
            "text/plain": [
              "<Figure size 432x288 with 1 Axes>"
            ]
          },
          "metadata": {
            "needs_background": "light"
          }
        }
      ],
      "source": [
        "# LEIA AQUI\n",
        "# Este código foi criado com o intuito de ser didático, mostrando alguns comandos simples\n",
        "\n",
        "# Foram feitos os seguintes passos:\n",
        "### Transferir dados do CSV para Python\n",
        "### Reorganizar os vetores de dados​\n",
        "### Gerar gráfico data x valores​\n",
        "### Quantos meses foram contabilizados? ​\n",
        "### Quantos anos foram contabilizados? ​\n",
        "### Qual mês teve o maior faturamento? ​\n",
        "### Qual mês teve o menor faturamento? ​\n",
        "### Qual ano teve o maior faturamento?\n",
        "### Qual ano teve o menor faturamento?\n",
        "### Qual é o faturamento total? ​\n",
        "### Qual é a média de faturamento por ano?\n",
        "\n",
        "\n",
        "\n",
        "# -*- coding: utf-8 -*-\n",
        "\"\"\"\n",
        "Created on Wed Aug 18 10:44:03 2021\n",
        "\n",
        "@author: marcus\n",
        "\"\"\"\n",
        "\n",
        "import matplotlib\n",
        "\n",
        "###Transferir dados do CSV para Python\n",
        "\n",
        "vetor = open('case.csv').readlines()\n",
        "mes = []\n",
        "ano = []\n",
        "valores = []\n",
        "data = []\n",
        "\n",
        "for i in range(len(vetor)):\n",
        "    if i !=0:\n",
        "        linha = vetor[i].split(';')\n",
        "        \n",
        "        mes.append(linha[0])\n",
        "        ano.append(linha[1])\n",
        "        valores.append(float(linha[2]))\n",
        "        \n",
        "\n",
        "###Reorganizar os vetores de dados​\n",
        "\n",
        "for i in range(len(mes)):\n",
        "    data.append(str(mes[i])+str(ano[i]))\n",
        "\n",
        "\n",
        "###Gerar gráfico data x valores​\n",
        "matplotlib.pyplot.plot(data, valores)\n",
        "    \n",
        "\n",
        "###Quantos meses foram contabilizados? ​\n",
        "\n",
        "quantmeses = len(mes)\n",
        "print(\"Foram contabilizados \", quantmeses, \" meses.\")\n",
        "\n",
        "\n",
        "###Quantos anos foram contabilizados?​\n",
        "\n",
        "base = []    \n",
        "for i in range(len(ano)):\n",
        "\tatu = ano[i]\n",
        "\tif ano[i] not in base:\n",
        "\t\tbase.append(ano[i])\n",
        "quantanos = len(base)\n",
        "print(\"Foram contabilizados \", quantanos, \" anos.\")\n",
        "\n",
        "\n",
        "\n",
        "###Qual mês teve o maior faturamento? ​\n",
        "\n",
        "valor_mes_maior_fat = max(valores)\n",
        "\n",
        "index_valor_mes_maior_fat = valores.index(valor_mes_maior_fat)\n",
        "\n",
        "mes_maior_fat = data[index_valor_mes_maior_fat]\n",
        "\n",
        "print(\"O maior faturamento foi de \", valor_mes_maior_fat, \", no mes de \", mes_maior_fat)\n",
        "\n",
        "\n",
        "###Qual mês teve o menor faturamento? ​\n",
        "\n",
        "valor_mes_menor_fat = min(valores)\n",
        "\n",
        "index_valor_mes_menor_fat = valores.index(valor_mes_menor_fat)\n",
        "\n",
        "mes_menor_fat = data[index_valor_mes_menor_fat]\n",
        "\n",
        "print(\"O menor faturamento foi de \", valor_mes_menor_fat, \", no mes de \", mes_menor_fat)\n",
        "\n",
        "\n",
        "\n",
        "\n",
        "###Qual ano teve o maior faturamento?  ​\n",
        "\n",
        "valoresanos = []\n",
        "\n",
        "for i in range(len(base)):\n",
        "\tsoma = 0\n",
        "\tcomp1 = base[i]\n",
        "\tfor j in range(len(ano)):\n",
        "\t\tcomp2 = ano[j]        \n",
        "\t\tif comp1 == comp2:\n",
        "\t\t\tsoma = soma + valores[j]\n",
        "\tvaloresanos.append(soma)\n",
        "        \n",
        "valor_ano_maior_fat = max(valoresanos)\n",
        "index_ano_maior_fat = valoresanos.index(valor_ano_maior_fat)\n",
        "ano_maior_fat = base[index_ano_maior_fat]\n",
        "print(\"O ano com maior faturamento foi \", ano_maior_fat, \", sendo o valor igual a \", valor_ano_maior_fat)\n",
        "\n",
        "\n",
        "\n",
        "\n",
        "###Qual ano teve o menor faturamento?  \n",
        "\n",
        "valor_ano_menor_fat = min(valoresanos)\n",
        "index_ano_menor_fat = valoresanos.index(valor_ano_menor_fat)\n",
        "ano_menor_fat = base[index_ano_menor_fat]\n",
        "print(\"O ano com menor faturamento foi \", ano_menor_fat, \", sendo o valor igual a \", valor_ano_menor_fat)\n",
        "\n",
        "\n",
        "###Qual é o faturamento total? ​\n",
        "\n",
        "fat_total = 0\n",
        "for i in range(len(valoresanos)):\n",
        "    fat_total = fat_total + valoresanos[i]\n",
        "print(\"O faturamento total é igual a: \", fat_total)    \n",
        "    \n",
        "    \n",
        "###Qual é a média de faturamento por ano? ​\n",
        "\n",
        "media_fat_ano = fat_total / quantanos\n",
        "print(\"A média de faturamento por ano é igual a: \", media_fat_ano)"
      ]
    },
    {
      "cell_type": "code",
      "source": [
        ""
      ],
      "metadata": {
        "id": "tr6jcjph7w6X"
      },
      "execution_count": null,
      "outputs": []
    }
  ]
}